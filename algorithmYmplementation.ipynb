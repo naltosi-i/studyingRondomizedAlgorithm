{
 "cells": [
  {
   "cell_type": "markdown",
   "metadata": {},
   "source": [
    "#### リニアサーチ\n",
    "##### 入力\n",
    "    - 数列A = < A[1], A[2], A[3], ... A[n]>\n",
    "    - 数列のサイズ n\n",
    "    - 探す数 v\n",
    "##### 出力\n",
    "    Aの中に、vと等しい数がある場合、≪見つかる≫と出力する。<br>\n",
    "    Aの中に、vと等しい数がない場合、≪見つからない≫と出力する。\n",
    "##### 疑似コード\n",
    "|行|実行回数|コード|\n",
    "|---:|:---:|:---|\n",
    "|L1:|1|procedure LINEAR-SEARCH(A,n,v)|\n",
    "|L2:|1|&emsp;&emsp;k ← 1|\n",
    "|L3:|M+1-S|&emsp;&emsp;while k ≦ n do|\n",
    "|L4:|M|&emsp;&emsp;&emsp;&emsp;if A[k] = v then|\n",
    "|L5:|S|&emsp;&emsp;&emsp;&emsp;&emsp;&emsp;return ≪見つかる≫|\n",
    "|L6:|0|&emsp;&emsp;&emsp;&emsp;end-if|\n",
    "|L7:|M-S|&emsp;&emsp;&emsp;&emsp;k ← k + 1|\n",
    "|L8:|M-S|&emsp;&emsp;end-while|\n",
    "|L9:|1-S|&emsp;&emsp;return ≪見つからない≫|\n",
    "|L10:|1|end-procedure|\n",
    "\n",
    "- Sは成功フラグを表すindicator\n",
    "- S = 1 は v が見つかる場合。M = v\n",
    "- S = 0 は v が見つからない場合。M = n\n",
    "\n",
    "リニアサーチの実行ステップ数は、<br>\n",
    "**4M - 3S + 5**"
   ]
  },
  {
   "cell_type": "code",
   "execution_count": null,
   "metadata": {},
   "outputs": [],
   "source": [
    "import random\n",
    "\n",
    "def linearSearch(sequence,size,target):\n",
    "    i = 0\n",
    "    while i < size:\n",
    "        if sequence[i] == target:\n",
    "            return \"見つかる\"\n",
    "        i += 1\n",
    "    return \"見つからない\"\n",
    "\n",
    "A = [31, 41, 59, 26, 53]\n",
    "n = len(A)\n",
    "v = 26\n",
    "\n",
    "print(A)\n",
    "print(\"searching \" + str(v))\n",
    "print(linearSearch(A,n,v))\n",
    "\n",
    "stop = 10**100\n",
    "listsize = 5*(10**5)\n",
    "B = [random.randrange(0, stop , 1) for i in range(listsize)]\n",
    "n = len(B)\n",
    "v = random.randrange(0, stop, 1)\n",
    "\n",
    "print(B[:10])\n",
    "print(\"...\")\n",
    "print(\"searching \" + str(v))\n",
    "print(linearSearch(B,n,v))"
   ]
  },
  {
   "cell_type": "markdown",
   "metadata": {},
   "source": [
    "### 番兵(sentinel)付きリニアサーチ\n",
    "\n",
    "##### 疑似コード\n",
    "|行|実行回数|コード|\n",
    "|---:|:---:|:---|\n",
    "|S1:|1|procedure SENTINEL-LINEAR-SEARCH(A,n,v)|\n",
    "|S2|1|&emsp;&emsp;A[n + 1] ← v|\n",
    "|S3:|1|&emsp;&emsp;k ← 1|\n",
    "|S4:|M + 1 - S|&emsp;&emsp;while A[k] ≠ v do|\n",
    "|S5|M - S|&emsp;&emsp;&emsp;&emsp;k ← k + 1|\n",
    "|S6|M - S|&emsp;&emsp;end-while|\n",
    "|S7:|1|&emsp;&emsp;if A[k] ≦ n then|\n",
    "|S8:|S|&emsp;&emsp;&emsp;&emsp;return ≪見つかる≫|\n",
    "|S9:|0|&emsp;&emsp;end-if|\n",
    "|S10:|1-S|&emsp;&emsp;return ≪見つからない≫|\n",
    "|S11:|1|end-procedure|\n",
    "\n",
    "番兵付きリニアサーチの実行ステップ数は、<br>\n",
    "**3M - 3S + 7**<br>\n",
    "\n",
    "リニアサーチの実行ステップ数 - 番兵付きリニアサーチの実行ステップ数<br>\n",
    "= (4M - 3S + 5) - (3M - 3S + 5)<br>\n",
    "= M - 2<br>\n",
    "**vが最初に見つかる位置が3番目以降なら、番兵付きリニアサーチはリニアサーチより約25%速い**"
   ]
  },
  {
   "cell_type": "code",
   "execution_count": null,
   "metadata": {},
   "outputs": [],
   "source": [
    "import random\n",
    "\n",
    "def linearSearch(sequence,size,target):\n",
    "    sequence.append(target)\n",
    "    i = 0\n",
    "    while sequence[i] != target:\n",
    "        i += 1\n",
    "    if ( i + 1 ) <= size:\n",
    "        return \"見つかる\"\n",
    "    return \"見つからない\"\n",
    "\n",
    "A = [31, 41, 59, 26, 53]\n",
    "n = len(A)\n",
    "v = 26\n",
    "\n",
    "print(A)\n",
    "print(\"searching \" + str(v))\n",
    "print(linearSearch(A,n,v))\n",
    "\n",
    "stop = 10**100\n",
    "listsize = 5*(10**5)\n",
    "B = [random.randrange(0, stop , 1) for i in range(listsize)]\n",
    "n = len(B)\n",
    "v = random.randrange(0, stop, 1)\n",
    "\n",
    "print(B[:5])\n",
    "print(\"...\")\n",
    "print(\"searching \" + str(v))\n",
    "print(linearSearch(B,n,v))"
   ]
  }
 ],
 "metadata": {
  "kernelspec": {
   "display_name": "Python 3.10.4 64-bit",
   "language": "python",
   "name": "python3"
  },
  "language_info": {
   "codemirror_mode": {
    "name": "ipython",
    "version": 3
   },
   "file_extension": ".py",
   "mimetype": "text/x-python",
   "name": "python",
   "nbconvert_exporter": "python",
   "pygments_lexer": "ipython3",
   "version": "3.10.4"
  },
  "orig_nbformat": 4,
  "vscode": {
   "interpreter": {
    "hash": "353403e0c5c9a78d62e6cc448e0203748e4990e70ca90be7727af8c9327f843c"
   }
  }
 },
 "nbformat": 4,
 "nbformat_minor": 2
}
