{
 "cells": [
  {
   "cell_type": "markdown",
   "metadata": {},
   "source": [
    "#### リニアサーチ\n",
    "##### 入力\n",
    "    - 数列A = < A[1], A[2], A[3], ... A[n]>\n",
    "    - 数列のサイズ n\n",
    "    - 探す数 v\n",
    "##### 出力\n",
    "    Aの中に、vと等しい数がある場合、≪見つかる≫と出力する。<br>\n",
    "    Aの中に、vと等しい数がない場合、≪見つからない≫と出力する。\n",
    "##### 疑似コード\n",
    "|行|実行回数|コード|\n",
    "|---:|:---:|:---|\n",
    "|L1:|1|procedure LINEAR-SEARCH(A,n,v)|\n",
    "|L2:|1|&emsp;&emsp;k ← 1|\n",
    "|L3:|M+1-S|&emsp;&emsp;while k ≦ n do|\n",
    "|L4:|M|&emsp;&emsp;&emsp;&emsp;if A[k] = v then|\n",
    "|L5:|S|&emsp;&emsp;&emsp;&emsp;&emsp;&emsp;return ≪見つかる≫|\n",
    "|L6:|0|&emsp;&emsp;&emsp;&emsp;end-if|\n",
    "|L7:|M-S|&emsp;&emsp;&emsp;&emsp;k ← k + 1|\n",
    "|L8:|M-S|&emsp;&emsp;end-while|\n",
    "|L9:|1-S|&emsp;&emsp;return ≪見つからない≫|\n",
    "|L10:|1|end-procedure|\n",
    "\n",
    "- Sは成功フラグを表すindicator\n",
    "- S = 1 は v が見つかる場合。M = v\n",
    "- S = 0 は v が見つからない場合。M = n\n",
    "\n",
    "リニアサーチの実行ステップ数は、<br>\n",
    "**4M - 3S + 5**"
   ]
  },
  {
   "cell_type": "code",
   "execution_count": null,
   "metadata": {},
   "outputs": [],
   "source": [
    "import random\n",
    "\n",
    "def linearSearch(sequence,size,target):\n",
    "    i = 0\n",
    "    while i < size:\n",
    "        if sequence[i] == target:\n",
    "            return \"見つかる\"\n",
    "        i += 1\n",
    "    return \"見つからない\"\n",
    "\n",
    "A = [31, 41, 59, 26, 53]\n",
    "n = len(A)\n",
    "v = 26\n",
    "\n",
    "print(A)\n",
    "print(\"searching \" + str(v))\n",
    "print(linearSearch(A,n,v))\n",
    "\n",
    "stop = 10**100\n",
    "listsize = 5*(10**5)\n",
    "B = [random.randrange(0, stop , 1) for i in range(listsize)]\n",
    "n = len(B)\n",
    "v = random.randrange(0, stop, 1)\n",
    "\n",
    "print(B[:10])\n",
    "print(\"...\")\n",
    "print(\"searching \" + str(v))\n",
    "print(linearSearch(B,n,v))"
   ]
  },
  {
   "cell_type": "markdown",
   "metadata": {},
   "source": [
    "### 番兵(sentinel)付きリニアサーチ\n",
    "\n",
    "##### 疑似コード\n",
    "|行|実行回数|コード|\n",
    "|---:|:---:|:---|\n",
    "|S1:|1|procedure SENTINEL-LINEAR-SEARCH(A,n,v)|\n",
    "|S2|1|&emsp;&emsp;A[n + 1] ← v|\n",
    "|S3:|1|&emsp;&emsp;k ← 1|\n",
    "|S4:|M + 1 - S|&emsp;&emsp;while A[k] ≠ v do|\n",
    "|S5|M - S|&emsp;&emsp;&emsp;&emsp;k ← k + 1|\n",
    "|S6|M - S|&emsp;&emsp;end-while|\n",
    "|S7:|1|&emsp;&emsp;if A[k] ≦ n then|\n",
    "|S8:|S|&emsp;&emsp;&emsp;&emsp;return ≪見つかる≫|\n",
    "|S9:|0|&emsp;&emsp;end-if|\n",
    "|S10:|1-S|&emsp;&emsp;return ≪見つからない≫|\n",
    "|S11:|1|end-procedure|\n",
    "\n",
    "番兵付きリニアサーチの実行ステップ数は、<br>\n",
    "**3M - 3S + 7**<br>\n",
    "\n",
    "リニアサーチの実行ステップ数 - 番兵付きリニアサーチの実行ステップ数<br>\n",
    "= (4M - 3S + 5) - (3M - 3S + 5)<br>\n",
    "= M - 2<br>\n",
    "**vが最初に見つかる位置が3番目以降なら、番兵付きリニアサーチはリニアサーチより約25%速い**"
   ]
  },
  {
   "cell_type": "code",
   "execution_count": null,
   "metadata": {},
   "outputs": [],
   "source": [
    "import random\n",
    "\n",
    "def linearSearch(sequence,size,target):\n",
    "    sequence.append(target)\n",
    "    i = 0\n",
    "    while sequence[i] != target:\n",
    "        i += 1\n",
    "    if ( i + 1 ) <= size:\n",
    "        return \"見つかる\"\n",
    "    return \"見つからない\"\n",
    "\n",
    "A = [31, 41, 59, 26, 53]\n",
    "n = len(A)\n",
    "v = 26\n",
    "\n",
    "print(A)\n",
    "print(\"searching \" + str(v))\n",
    "print(linearSearch(A,n,v))\n",
    "\n",
    "stop = 10**100\n",
    "listsize = 5*(10**5)\n",
    "B = [random.randrange(0, stop , 1) for i in range(listsize)]\n",
    "n = len(B)\n",
    "v = random.randrange(0, stop, 1)\n",
    "\n",
    "print(B[:5])\n",
    "print(\"...\")\n",
    "print(\"searching \" + str(v))\n",
    "print(linearSearch(B,n,v))"
   ]
  },
  {
   "cell_type": "markdown",
   "metadata": {},
   "source": [
    "### 指数的爆発\n",
    "||ビットオーダー|\n",
    "|---:|:---|\n",
    "|地球を構成する原子の総数|$2^{170}$個|\n",
    "|銀河系を構成する原子の総数|$2^{223}$個|\n",
    "|全宇宙の体積|$2^{280}$㎤|\n",
    "\n",
    "────\"Applied Cryptography\"より"
   ]
  },
  {
   "cell_type": "code",
   "execution_count": 10,
   "metadata": {},
   "outputs": [
    {
     "name": "stdout",
     "output_type": "stream",
     "text": [
      "[50579, 37705, 57670, 52324, 57616, 40761, 21067, 41080, 29389, 3448]\n"
     ]
    }
   ],
   "source": [
    "import random\n",
    "\n",
    "order= 16\n",
    "number = 2 ** order\n",
    "list = []\n",
    "for i in range(number):\n",
    "    list.append(random.randrange(0, number, 1))\n",
    "\n",
    "print(list[:10])"
   ]
  },
  {
   "cell_type": "code",
   "execution_count": 13,
   "metadata": {},
   "outputs": [
    {
     "name": "stdout",
     "output_type": "stream",
     "text": [
      "[7716049, 6822298, 13095147, 16179788, 6062753, 16409544, 12378190, 6645508, 2242346, 11101659]\n"
     ]
    }
   ],
   "source": [
    "import random\n",
    "\n",
    "order= 24\n",
    "number = 2 ** order\n",
    "list = []\n",
    "for i in range(number):\n",
    "    list.append(random.randrange(0, number, 1))\n",
    "\n",
    "print(list[:10])"
   ]
  },
  {
   "cell_type": "markdown",
   "metadata": {},
   "source": [
    "### 確率の意味\n",
    "- 公理的確率: ≪確率の公理≫によって定めた確率。\n",
    "- 古典的確率: ≪場合の数の比≫によって定めた確率。同じ確からしさを持つ出来事とは何であるかを前もって決め、≪注目している場合の数≫÷≪すべての場合の数≫=≪場合の数の比≫で確率を表す。\n",
    "- 統計的確率: ≪発生頻度の比≫によって定めた確率。\n",
    "\n",
    "### 確率の公理（コルモゴロフによる）\n",
    "Ωを集合とし、A, BをΩの部分集合とする。\n",
    "PrをΩの部分集合から実数への関数とする。\n",
    "関数Prが以下の公理P1, P2, P3を満たすとする。\n",
    "\n",
    "公理 P1 0≦Pr(A)≦1\n",
    "公理 P2 Pr(Ω)=1\n",
    "公理 P3 A∩B={}ならば、Pr(A∪B)=Pr(A)+Pr(B)\n",
    "\n",
    "このとき、\n",
    "- 集合Ωを**標本空間**と呼び、\n",
    "- Ωの部分集合を**事象**と呼び、\n",
    "- 関数Prを**確率分布**と呼び、\n",
    "- 実数Pr(A)をAが起きる**確率**と呼ぶ。\n",
    "\n",
    "### 期待値\n",
    "確率変数Xの期待値E[X]を次式で定義する。<br>\n",
    "$E[X] = \\sum_{k=0}^{\\infty}c_k\\cdot Pr(X=c_k)$\n",
    "ここで<br>\n",
    "- $X=[c_0, c_1, c_2, c_3 \\ldots, c_k \\ldots]$<br>\n",
    "- $Pr(X=c_k)$は確率変数Xが$c_k$に等しくなる確率を表す。\n",
    "\n",
    "### 期待値の線形性\n",
    "- $E[X+Y]=E[X]+E[Y]$\n",
    "- $E[K\\cdot X]=K\\cdot E[X] (ただしKは定数)$\n",
    "\n",
    "一般的に\n",
    "$X=X_1+X_2+X_3+\\ldots+X_n$のとき、<br>\n",
    "$E[X]=E[X_1]+E[X_2]+E[X_3]+\\ldots+E[X_n]=\\sum_{k=1}^{n}E[X_k]$<br>\n",
    "また<br>\n",
    "$E[X]=E[\\sum_{k=1}^{n}X_k]$より<br>\n",
    "$E[\\sum_{k=1}^{n}X_k]=\\sum_{k=1}^{n}E[X_k]$<br>\n",
    "と書ける。"
   ]
  },
  {
   "cell_type": "code",
   "execution_count": 4,
   "metadata": {},
   "outputs": [
    {
     "name": "stdout",
     "output_type": "stream",
     "text": [
      "[[(2, 0.6666666666666666), (1, 0.3333333333333333)], [(1, 0.6666666666666666), (1, 0.3333333333333333)], [(2, 0.6666666666666666), (2, 0.3333333333333333)], [(2, 0.5), (0, 0.5)], [(1, 0.6666666666666666), (1, 0.3333333333333333)]]\n",
      "(1, 0.6666666666666666)\n",
      "[[(2, 0.6666666666666666), (1, 0.6666666666666666), (2, 0.6666666666666666), (2, 0.5), (1, 0.6666666666666666)], [(1, 0.3333333333333333), (1, 0.3333333333333333), (2, 0.3333333333333333), (0, 0.5), (1, 0.3333333333333333)]]\n",
      "6.666666666666666\n"
     ]
    }
   ],
   "source": [
    "# 和の期待値と期待値の和が等しくなるかのシミュレーション\n",
    "\n",
    "import random\n",
    "\n",
    "sampleSize = 5 # 確率変数の数\n",
    "factor = 2 # 確率変数が取りうる値の数\n",
    "sampleList = [] # 確率変数と確率分布のセットをを入れる箱\n",
    "\n",
    "def sampleMaker(sampleList, sampleSize, factor):\n",
    "    for n in range(sampleSize):\n",
    "        randomVariable = [random.randint(0,factor) for i in range(factor)] # 確率変数列\n",
    "        probabilityDistribution = [] # 確率分布列\n",
    "\n",
    "        # 確率分布生成\n",
    "        pdSeed = [random.randint(1,factor) for i in range(factor)]\n",
    "        total = sum(pdSeed)\n",
    "        for i in range(len(pdSeed)):\n",
    "            probabilityDistribution.append(pdSeed[i] / total)\n",
    "\n",
    "        tuplelist = []\n",
    "        for i in range(factor):\n",
    "            tuplelist.append((randomVariable[i],probabilityDistribution[i]))\n",
    "\n",
    "        sampleList.append(tuplelist)\n",
    "\n",
    "sampleMaker(sampleList, sampleSize, factor)\n",
    "'''リストの中のタプルの取り出し方\n",
    "for l in sampleList:\n",
    "    for t in l:\n",
    "        print(t[0]*t[1])\n",
    "'''\n",
    "\n",
    "print(sampleList)\n",
    "\n",
    "# 和の期待値\n",
    "''' 未完成。和の期待値をコードで表現するのはややこしい\n",
    "expectedValue1 = 0\n",
    "tupleSeries = []\n",
    "for l in range(factor):\n",
    "    tupleSeries.append([])\n",
    "\n",
    "print(sampleList[1][0])\n",
    "\n",
    "for t in range(factor):\n",
    "    for l in range(sampleSize):\n",
    "        tupleSeries[t].append(sampleList[l][t])\n",
    "\n",
    "print(tupleSeries)\n",
    "\n",
    "'''\n",
    "\n",
    "# 期待値の和\n",
    "expectedValue2 = 0\n",
    "suml =[]\n",
    "for l in range(sampleSize):\n",
    "    suml.append([])\n",
    "    for t in sampleList[l]:\n",
    "        suml[l].append(t[0]*t[1])\n",
    "\n",
    "for i in range(len(suml)):\n",
    "    expectedValue2 += sum(suml[i])\n",
    "\n",
    "print(expectedValue2)"
   ]
  },
  {
   "cell_type": "markdown",
   "metadata": {},
   "source": [
    "### 二項分布\n",
    "##### **定義**\n",
    "2つの母数$p(0≤p≤1), n（nは自然数）$に対して、$0$以上の<u>整数を値としてとる</u>確率変数$X$の確率質量関数が<br>\n",
    "$P_n(k)=\\dbinom{n}{k} p^k (1-p)^{n-k}$<br>\n",
    "で与えられるとき、確率変数Xは母数$(n, p)$の二項分布$B(n, p)$に従うという。これを$X \\sim B(n, p)$と表記する。\n",
    "\n",
    "##### **解釈**\n",
    "$n$回の試行で成功確率$p$の事象が$k$回起こるときの確率を意味する。<br>\n",
    "ex.) 表が出る確率が$p$で、裏が出る確率が$(1-p)$のコインを$n$回投げたとき、表が$k$回出る確率$P_n(k)$\n",
    "\n",
    "二項分布の期待値は<u>定義</u>と<u>二項定理</u>から証明ができる。<br>\n",
    "https://mathlandscape.com/binomial-distrib-ev/"
   ]
  },
  {
   "cell_type": "markdown",
   "metadata": {},
   "source": [
    "### $O$(オー)記法\n",
    "\n",
    "#### **定義**\n",
    "$\\exists N \\in \\mathbb{N} \\; \\exists C ＞ 0 \\; \\forall n \\geq N \\; \\left[|T(n)| \\leq C_n \\right] $<br>\n",
    "このとき<br>\n",
    "≪関数$T(n)$は、たかだか$n$のオーダーである≫\n",
    "という。\n",
    "これを<br>\n",
    "$T(n) = O(n)$<br>\n",
    "と表す。"
   ]
  }
 ],
 "metadata": {
  "kernelspec": {
   "display_name": "Python 3.10.4 64-bit",
   "language": "python",
   "name": "python3"
  },
  "language_info": {
   "codemirror_mode": {
    "name": "ipython",
    "version": 3
   },
   "file_extension": ".py",
   "mimetype": "text/x-python",
   "name": "python",
   "nbconvert_exporter": "python",
   "pygments_lexer": "ipython3",
   "version": "3.10.4"
  },
  "orig_nbformat": 4,
  "vscode": {
   "interpreter": {
    "hash": "353403e0c5c9a78d62e6cc448e0203748e4990e70ca90be7727af8c9327f843c"
   }
  }
 },
 "nbformat": 4,
 "nbformat_minor": 2
}
